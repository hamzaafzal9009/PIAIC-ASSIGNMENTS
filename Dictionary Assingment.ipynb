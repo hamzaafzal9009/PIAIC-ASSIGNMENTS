{
 "cells": [
  {
   "cell_type": "code",
   "execution_count": 5,
   "metadata": {},
   "outputs": [
    {
     "name": "stdout",
     "output_type": "stream",
     "text": [
      "How much data you want to store?1\n",
      "Enter Name....Hamza\n",
      "Enter Age...24\n",
      "Enter Work...AI\n",
      "Enter Skills :seperated by commaPHP,Python\n",
      "Enter Salary...15000\n",
      "Enter Degree Title...BS\n",
      "Enter Degree Major...CS\n",
      "Enter Degree Complition Date...2018\n",
      "[{'name': 'Hamza', 'age': 24, 'work': 'AI', 'skills': ['PHP', 'Python'], 'degree': {'title': 'BS', 'major': 'CS', 'completitionDate': '2018'}, 'salary': 15000}]\n"
     ]
    }
   ],
   "source": [
    "dataList = []\n",
    "rang = int(input(\"How much data you want to store?\"))\n",
    "for r in range(0,rang) :\n",
    "    name = input(\"Enter Name....\")\n",
    "    age = int(input(\"Enter Age...\"))\n",
    "    work = input(\"Enter Work...\")\n",
    "    skillss = input(\"Enter Skills :seperated by comma\")\n",
    "    skills = skillss.split(\",\")\n",
    "    salary = int(input(\"Enter Salary...\"))\n",
    "    degreeTitle = input(\"Enter Degree Title...\")\n",
    "    degreeMajor = input(\"Enter Degree Major...\")\n",
    "    degreeCompletionData = input(\"Enter Degree Complition Date...\")\n",
    "    degree = {\"title\": degreeTitle, \"major\": degreeMajor, \"completitionDate\": degreeCompletionData}\n",
    "    dataDic = {\"name\": name, \"age\": age, \"work\": work, \"skills\": skills, \"degree\": degree, \"salary\": salary}\n",
    "    dataList.append(dataDic)\n",
    "    \n",
    "print(\"OUTPUT WILL BE : \")\n",
    "print(dataList)"
   ]
  },
  {
   "cell_type": "code",
   "execution_count": 4,
   "metadata": {},
   "outputs": [
    {
     "name": "stdout",
     "output_type": "stream",
     "text": [
      "[{'name': 'Hamza', 'age': 24, 'work': 'AI', 'skills': ['PHP', 'Java', 'PYTHON'], 'degree': {'title': 'BSCS', 'major': 'CS', 'completitionDate': '2018'}, 'salary': 150000}, {'name': 'Umar', 'age': 23, 'work': 'Wella', 'skills': ['Chatting', 'pubg'], 'degree': {'title': 'BS', 'major': 'CS', 'completitionDate': '2019'}, 'salary': 50000}]\n"
     ]
    }
   ],
   "source": [
    "print(dataList)"
   ]
  },
  {
   "cell_type": "code",
   "execution_count": null,
   "metadata": {},
   "outputs": [],
   "source": []
  }
 ],
 "metadata": {
  "kernelspec": {
   "display_name": "Python 3",
   "language": "python",
   "name": "python3"
  },
  "language_info": {
   "codemirror_mode": {
    "name": "ipython",
    "version": 3
   },
   "file_extension": ".py",
   "mimetype": "text/x-python",
   "name": "python",
   "nbconvert_exporter": "python",
   "pygments_lexer": "ipython3",
   "version": "3.7.4"
  }
 },
 "nbformat": 4,
 "nbformat_minor": 2
}
